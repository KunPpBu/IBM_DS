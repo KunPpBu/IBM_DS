{
 "cells": [
  {
   "cell_type": "markdown",
   "id": "3958e380-09df-4903-a626-8dcb14a1552f",
   "metadata": {},
   "source": [
    "# Data Science Tools and Ecosystem"
   ]
  },
  {
   "cell_type": "markdown",
   "id": "f58f8882-4bfc-44a1-8e75-b96700a494de",
   "metadata": {},
   "source": [
    "In this notebook, Data Science Tools and Ecosystem are summarized."
   ]
  },
  {
   "cell_type": "code",
   "execution_count": null,
   "id": "340dd43f-0a71-4861-91fe-32478b2127ab",
   "metadata": {},
   "outputs": [],
   "source": [
    "**Objectives:**\n",
    "\n",
    "- List popular languages for Data Science.\n",
    "- List commonly used Data Science libraries.\n",
    "- Create a markdown cell with a table of Data Science tools.\n",
    "- Create a markdown cell introducing arithmetic expression examples.\n",
    "- Create a code cell to convert minutes to hours.\n"
   ]
  },
  {
   "cell_type": "markdown",
   "id": "61f171d5-4dd8-44f1-be48-63b284479ee3",
   "metadata": {},
   "source": [
    "Some of the popular languages that Data Scientists use are:\n",
    "\n",
    "1. Python\n",
    "2. R\n",
    "3. SQL\n"
   ]
  },
  {
   "cell_type": "markdown",
   "id": "892b5ed7-a7b3-40c2-bf6e-0ef4d9630fa9",
   "metadata": {},
   "source": [
    "Some of the commonly used libraries used by Data Scientists include:\n",
    "\n",
    "1. Pandas\n",
    "2. Numpy\n",
    "3. Matplotlib\n",
    "4. Scikit-learn\n",
    "5. TensorFlow\n",
    "6. Seaborn\n",
    "7. PyTorch"
   ]
  },
  {
   "cell_type": "markdown",
   "id": "7a150ac4-f82a-4c53-9079-c2605115181c",
   "metadata": {},
   "source": [
    "| Data Science Tools |\n",
    "|--------------------|\n",
    "| Jupyter Notebooks  |\n",
    "| RStudio            |\n",
    "| VSCode             |\n"
   ]
  },
  {
   "cell_type": "markdown",
   "id": "e89c4fce-9899-45c2-8d04-c5be02759046",
   "metadata": {},
   "source": []
  },
  {
   "cell_type": "markdown",
   "id": "0a613fed-1fcb-40bf-8b99-43ca295ce3ea",
   "metadata": {},
   "source": [
    "### Below are a few examples of evaluating arithmetic expressions in Python.\n"
   ]
  },
  {
   "cell_type": "code",
   "execution_count": 2,
   "id": "7381fd47-2a84-4df0-ae74-f113efcbc6d0",
   "metadata": {},
   "outputs": [
    {
     "data": {
      "text/plain": [
       "17"
      ]
     },
     "execution_count": 2,
     "metadata": {},
     "output_type": "execute_result"
    }
   ],
   "source": [
    "# This a simple arithmetic expression to mutiply then add integers\n",
    "(3*4)+5"
   ]
  },
  {
   "cell_type": "code",
   "execution_count": 3,
   "id": "58995cd5-f96a-4ad7-aa63-ad134e28942c",
   "metadata": {},
   "outputs": [
    {
     "data": {
      "text/plain": [
       "3"
      ]
     },
     "execution_count": 3,
     "metadata": {},
     "output_type": "execute_result"
    }
   ],
   "source": [
    "# This will convert 200 minutes to hours by diving by 60\n",
    "200//60"
   ]
  },
  {
   "cell_type": "markdown",
   "id": "d44c641e-c4d1-4f1d-94ec-3e6cdc3fdc4e",
   "metadata": {},
   "source": [
    "# Author\n",
    "Kun Bu"
   ]
  }
 ],
 "metadata": {
  "kernelspec": {
   "display_name": "Python 3 (ipykernel)",
   "language": "python",
   "name": "python3"
  },
  "language_info": {
   "codemirror_mode": {
    "name": "ipython",
    "version": 3
   },
   "file_extension": ".py",
   "mimetype": "text/x-python",
   "name": "python",
   "nbconvert_exporter": "python",
   "pygments_lexer": "ipython3",
   "version": "3.8.0"
  }
 },
 "nbformat": 4,
 "nbformat_minor": 5
}
